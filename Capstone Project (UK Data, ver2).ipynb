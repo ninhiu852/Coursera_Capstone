{
 "cells": [
  {
   "cell_type": "markdown",
   "metadata": {},
   "source": [
    "# Capstone Project (UK Data, ver2, Effect of Junctions)"
   ]
  },
  {
   "cell_type": "markdown",
   "metadata": {},
   "source": [
    "## Load Libraries and Data"
   ]
  },
  {
   "cell_type": "code",
   "execution_count": 1,
   "metadata": {},
   "outputs": [],
   "source": [
    "import numpy as np\n",
    "import pandas as pd\n",
    "import matplotlib.pyplot as plt"
   ]
  },
  {
   "cell_type": "code",
   "execution_count": 2,
   "metadata": {},
   "outputs": [
    {
     "name": "stdout",
     "output_type": "stream",
     "text": [
      "(285331, 70)\n"
     ]
    },
    {
     "name": "stderr",
     "output_type": "stream",
     "text": [
      "C:\\ProgramData\\Anaconda3\\lib\\site-packages\\IPython\\core\\interactiveshell.py:3063: DtypeWarning: Columns (0,55) have mixed types.Specify dtype option on import or set low_memory=False.\n",
      "  interactivity=interactivity, compiler=compiler, result=result)\n"
     ]
    },
    {
     "data": {
      "text/html": [
       "<div>\n",
       "<style scoped>\n",
       "    .dataframe tbody tr th:only-of-type {\n",
       "        vertical-align: middle;\n",
       "    }\n",
       "\n",
       "    .dataframe tbody tr th {\n",
       "        vertical-align: top;\n",
       "    }\n",
       "\n",
       "    .dataframe thead th {\n",
       "        text-align: right;\n",
       "    }\n",
       "</style>\n",
       "<table border=\"1\" class=\"dataframe\">\n",
       "  <thead>\n",
       "    <tr style=\"text-align: right;\">\n",
       "      <th></th>\n",
       "      <th>accident_index</th>\n",
       "      <th>vehicle_reference</th>\n",
       "      <th>vehicle_type</th>\n",
       "      <th>towing_and_articulation</th>\n",
       "      <th>vehicle_manoeuvre</th>\n",
       "      <th>vehicle_location-restricted_lane</th>\n",
       "      <th>junction_location</th>\n",
       "      <th>skidding_and_overturning</th>\n",
       "      <th>hit_object_in_carriageway</th>\n",
       "      <th>vehicle_leaving_carriageway</th>\n",
       "      <th>...</th>\n",
       "      <th>age_band_of_casualty</th>\n",
       "      <th>casualty_severity</th>\n",
       "      <th>pedestrian_location</th>\n",
       "      <th>pedestrian_movement</th>\n",
       "      <th>car_passenger</th>\n",
       "      <th>bus_or_coach_passenger</th>\n",
       "      <th>pedestrian_road_maintenance_worker</th>\n",
       "      <th>casualty_type</th>\n",
       "      <th>casualty_home_area_type</th>\n",
       "      <th>casualty_imd_decile</th>\n",
       "    </tr>\n",
       "  </thead>\n",
       "  <tbody>\n",
       "    <tr>\n",
       "      <th>0</th>\n",
       "      <td>201506E098757</td>\n",
       "      <td>2</td>\n",
       "      <td>9</td>\n",
       "      <td>0</td>\n",
       "      <td>18</td>\n",
       "      <td>0</td>\n",
       "      <td>8</td>\n",
       "      <td>0</td>\n",
       "      <td>0</td>\n",
       "      <td>0</td>\n",
       "      <td>...</td>\n",
       "      <td>NaN</td>\n",
       "      <td>NaN</td>\n",
       "      <td>NaN</td>\n",
       "      <td>NaN</td>\n",
       "      <td>NaN</td>\n",
       "      <td>NaN</td>\n",
       "      <td>NaN</td>\n",
       "      <td>NaN</td>\n",
       "      <td>NaN</td>\n",
       "      <td>NaN</td>\n",
       "    </tr>\n",
       "    <tr>\n",
       "      <th>1</th>\n",
       "      <td>201506E098766</td>\n",
       "      <td>1</td>\n",
       "      <td>9</td>\n",
       "      <td>0</td>\n",
       "      <td>9</td>\n",
       "      <td>0</td>\n",
       "      <td>8</td>\n",
       "      <td>0</td>\n",
       "      <td>0</td>\n",
       "      <td>0</td>\n",
       "      <td>...</td>\n",
       "      <td>NaN</td>\n",
       "      <td>NaN</td>\n",
       "      <td>NaN</td>\n",
       "      <td>NaN</td>\n",
       "      <td>NaN</td>\n",
       "      <td>NaN</td>\n",
       "      <td>NaN</td>\n",
       "      <td>NaN</td>\n",
       "      <td>NaN</td>\n",
       "      <td>NaN</td>\n",
       "    </tr>\n",
       "    <tr>\n",
       "      <th>2</th>\n",
       "      <td>201506E098766</td>\n",
       "      <td>2</td>\n",
       "      <td>9</td>\n",
       "      <td>0</td>\n",
       "      <td>18</td>\n",
       "      <td>0</td>\n",
       "      <td>8</td>\n",
       "      <td>0</td>\n",
       "      <td>0</td>\n",
       "      <td>0</td>\n",
       "      <td>...</td>\n",
       "      <td>8.0</td>\n",
       "      <td>3.0</td>\n",
       "      <td>0.0</td>\n",
       "      <td>0.0</td>\n",
       "      <td>0.0</td>\n",
       "      <td>0.0</td>\n",
       "      <td>0.0</td>\n",
       "      <td>9.0</td>\n",
       "      <td>1.0</td>\n",
       "      <td>3.0</td>\n",
       "    </tr>\n",
       "    <tr>\n",
       "      <th>3</th>\n",
       "      <td>201506E098777</td>\n",
       "      <td>1</td>\n",
       "      <td>20</td>\n",
       "      <td>0</td>\n",
       "      <td>4</td>\n",
       "      <td>0</td>\n",
       "      <td>0</td>\n",
       "      <td>0</td>\n",
       "      <td>0</td>\n",
       "      <td>0</td>\n",
       "      <td>...</td>\n",
       "      <td>6.0</td>\n",
       "      <td>3.0</td>\n",
       "      <td>1.0</td>\n",
       "      <td>1.0</td>\n",
       "      <td>0.0</td>\n",
       "      <td>0.0</td>\n",
       "      <td>0.0</td>\n",
       "      <td>0.0</td>\n",
       "      <td>1.0</td>\n",
       "      <td>1.0</td>\n",
       "    </tr>\n",
       "    <tr>\n",
       "      <th>4</th>\n",
       "      <td>201506E098780</td>\n",
       "      <td>1</td>\n",
       "      <td>9</td>\n",
       "      <td>0</td>\n",
       "      <td>15</td>\n",
       "      <td>0</td>\n",
       "      <td>1</td>\n",
       "      <td>0</td>\n",
       "      <td>0</td>\n",
       "      <td>0</td>\n",
       "      <td>...</td>\n",
       "      <td>NaN</td>\n",
       "      <td>NaN</td>\n",
       "      <td>NaN</td>\n",
       "      <td>NaN</td>\n",
       "      <td>NaN</td>\n",
       "      <td>NaN</td>\n",
       "      <td>NaN</td>\n",
       "      <td>NaN</td>\n",
       "      <td>NaN</td>\n",
       "      <td>NaN</td>\n",
       "    </tr>\n",
       "  </tbody>\n",
       "</table>\n",
       "<p>5 rows × 70 columns</p>\n",
       "</div>"
      ],
      "text/plain": [
       "  accident_index  vehicle_reference  vehicle_type  towing_and_articulation  \\\n",
       "0  201506E098757                  2             9                        0   \n",
       "1  201506E098766                  1             9                        0   \n",
       "2  201506E098766                  2             9                        0   \n",
       "3  201506E098777                  1            20                        0   \n",
       "4  201506E098780                  1             9                        0   \n",
       "\n",
       "   vehicle_manoeuvre  vehicle_location-restricted_lane  junction_location  \\\n",
       "0                 18                                 0                  8   \n",
       "1                  9                                 0                  8   \n",
       "2                 18                                 0                  8   \n",
       "3                  4                                 0                  0   \n",
       "4                 15                                 0                  1   \n",
       "\n",
       "   skidding_and_overturning  hit_object_in_carriageway  \\\n",
       "0                         0                          0   \n",
       "1                         0                          0   \n",
       "2                         0                          0   \n",
       "3                         0                          0   \n",
       "4                         0                          0   \n",
       "\n",
       "   vehicle_leaving_carriageway  ...  age_band_of_casualty  casualty_severity  \\\n",
       "0                            0  ...                   NaN                NaN   \n",
       "1                            0  ...                   NaN                NaN   \n",
       "2                            0  ...                   8.0                3.0   \n",
       "3                            0  ...                   6.0                3.0   \n",
       "4                            0  ...                   NaN                NaN   \n",
       "\n",
       "   pedestrian_location  pedestrian_movement  car_passenger  \\\n",
       "0                  NaN                  NaN            NaN   \n",
       "1                  NaN                  NaN            NaN   \n",
       "2                  0.0                  0.0            0.0   \n",
       "3                  1.0                  1.0            0.0   \n",
       "4                  NaN                  NaN            NaN   \n",
       "\n",
       "   bus_or_coach_passenger  pedestrian_road_maintenance_worker  casualty_type  \\\n",
       "0                     NaN                                 NaN            NaN   \n",
       "1                     NaN                                 NaN            NaN   \n",
       "2                     0.0                                 0.0            9.0   \n",
       "3                     0.0                                 0.0            0.0   \n",
       "4                     NaN                                 NaN            NaN   \n",
       "\n",
       "   casualty_home_area_type  casualty_imd_decile  \n",
       "0                      NaN                  NaN  \n",
       "1                      NaN                  NaN  \n",
       "2                      1.0                  3.0  \n",
       "3                      1.0                  1.0  \n",
       "4                      NaN                  NaN  \n",
       "\n",
       "[5 rows x 70 columns]"
      ]
     },
     "execution_count": 2,
     "metadata": {},
     "output_type": "execute_result"
    }
   ],
   "source": [
    "df = pd.read_csv('Kaagle_Upload.csv')\n",
    "print(df.shape)\n",
    "df.head()\n"
   ]
  },
  {
   "cell_type": "code",
   "execution_count": 3,
   "metadata": {},
   "outputs": [
    {
     "name": "stdout",
     "output_type": "stream",
     "text": [
      "(285331, 9)\n",
      "(285331, 11)\n"
     ]
    }
   ],
   "source": [
    "# feature selection. First dataframe does not have junction features, second one does\n",
    "df1 = df[['accident_severity', 'road_type', 'light_conditions', 'weather_conditions', 'road_surface_conditions', 'special_conditions_at_site', 'carriageway_hazards', 'urban_or_rural_area', 'day_of_week']]\n",
    "df2 = df[['accident_severity', 'road_type', 'junction_detail', 'junction_control', 'light_conditions', 'weather_conditions', 'road_surface_conditions', 'special_conditions_at_site', 'carriageway_hazards', 'urban_or_rural_area', 'day_of_week']]\n",
    "\n",
    "print(df1.shape)\n",
    "print(df2.shape)"
   ]
  },
  {
   "cell_type": "code",
   "execution_count": 4,
   "metadata": {},
   "outputs": [
    {
     "name": "stderr",
     "output_type": "stream",
     "text": [
      "C:\\ProgramData\\Anaconda3\\lib\\site-packages\\pandas\\core\\frame.py:4172: SettingWithCopyWarning: \n",
      "A value is trying to be set on a copy of a slice from a DataFrame\n",
      "\n",
      "See the caveats in the documentation: https://pandas.pydata.org/pandas-docs/stable/user_guide/indexing.html#returning-a-view-versus-a-copy\n",
      "  method=method,\n"
     ]
    },
    {
     "name": "stdout",
     "output_type": "stream",
     "text": [
      "(284654, 9)\n",
      "(172125, 11)\n"
     ]
    }
   ],
   "source": [
    "# drop missing values in dataframe; -1 in the dataset denotes missing value, hence it is replaced with NaN\n",
    "df1.replace(-1, np.nan, inplace=True)\n",
    "df1=df1.dropna()\n",
    "print(df1.shape)\n",
    "\n",
    "df2.replace(-1, np.nan, inplace=True)\n",
    "df2=df2.dropna()\n",
    "print(df2.shape)\n"
   ]
  },
  {
   "cell_type": "code",
   "execution_count": 5,
   "metadata": {},
   "outputs": [],
   "source": [
    "# import libraries for heatmap\n",
    "import seaborn as sns\n",
    "import matplotlib.pyplot as plt\n"
   ]
  },
  {
   "cell_type": "code",
   "execution_count": 6,
   "metadata": {},
   "outputs": [
    {
     "data": {
      "image/png": "[encoded data removed]",
      "text/plain": [
       "<Figure size 864x648 with 2 Axes>"
      ]
     },
     "metadata": {
      "needs_background": "light"
     },
     "output_type": "display_data"
    }
   ],
   "source": [
    "# heatmap is generated to determine correlation between different attributes\n",
    "\n",
    "corrmat = df2.corr()\n",
    "f, ax = plt.subplots(figsize=(12,9))\n",
    "sns.heatmap(corrmat, vmax=1, square=True)\n",
    "plt.show()"
   ]
  },
  {
   "cell_type": "markdown",
   "metadata": {},
   "source": [
    "The heatmap produced shows the linear correlation between attributes. A dark purple cell indicates 0 correlation between 2 attributes, while a white cell indicates perfect correlation. From the heatmap we can see that there are no positive linear correlation present apart from light_conditions, weather_conditions and road_surface_conditions. These make sense as whether it rains or not will directly affect the road conditions.There is not much correlation between any of the other attributes, therefore there is no need for machine learning models based on linearity. "
   ]
  },
  {
   "cell_type": "markdown",
   "metadata": {},
   "source": [
    "Another thing to note is that there are no numerical variables, so therefore no normalization required"
   ]
  },
  {
   "cell_type": "code",
   "execution_count": 7,
   "metadata": {},
   "outputs": [
    {
     "name": "stdout",
     "output_type": "stream",
     "text": [
      "(12000, 9)\n",
      "(12000, 11)\n",
      "(12000, 9)\n",
      "(12000, 11)\n"
     ]
    }
   ],
   "source": [
    "#limiting size of dataset to reduce time. dataframes 1 and 2 will be used to train the model, dataframes a and b will be used to finally test the model\n",
    "df_a = df1[12000:24000]\n",
    "df_b = df2[12000:24000]\n",
    "df1 = df1[:12000]\n",
    "df2 = df2[:12000]\n",
    "print(df_a.shape)\n",
    "print(df_b.shape)\n",
    "print(df1.shape)\n",
    "print(df2.shape)"
   ]
  },
  {
   "cell_type": "code",
   "execution_count": 8,
   "metadata": {},
   "outputs": [
    {
     "name": "stdout",
     "output_type": "stream",
     "text": [
      "[3 3 3 ... 3 3 3]\n",
      "[3 3 3 ... 3 3 3]\n"
     ]
    }
   ],
   "source": [
    "# splitting data into X and Y values\n",
    "X1 = df1.loc[:, df1.columns != 'accident_severity']\n",
    "Y1 = df1.accident_severity.values\n",
    "\n",
    "X2 = df2.loc[:, df2.columns != 'accident_severity']\n",
    "Y2 = df2.accident_severity.values\n",
    "\n",
    "print(Y1)\n",
    "print(Y2)\n"
   ]
  },
  {
   "cell_type": "code",
   "execution_count": 9,
   "metadata": {},
   "outputs": [],
   "source": [
    "# import sklearn libraries for ML\n",
    "from sklearn.linear_model import LogisticRegression\n",
    "from sklearn.svm import LinearSVC\n",
    "from sklearn.neighbors import KNeighborsClassifier\n",
    "from sklearn.tree import DecisionTreeClassifier\n",
    "from sklearn.model_selection import train_test_split\n",
    "from sklearn import metrics"
   ]
  },
  {
   "cell_type": "code",
   "execution_count": 10,
   "metadata": {},
   "outputs": [],
   "source": [
    "# train test split to evaluate best settings for model\n",
    "X_train1, X_test1,Y_train1,Y_test1 = train_test_split(X1, Y1, test_size=0.2, random_state=99)\n"
   ]
  },
  {
   "cell_type": "code",
   "execution_count": 11,
   "metadata": {},
   "outputs": [
    {
     "name": "stdout",
     "output_type": "stream",
     "text": [
      "Test accuracy at k= 1 : 0.86375\n",
      "Test accuracy at k= 2 : 0.8225\n",
      "Test accuracy at k= 3 : 0.8841666666666667\n",
      "Test accuracy at k= 4 : 0.87125\n",
      "Test accuracy at k= 5 : 0.8766666666666667\n",
      "Test accuracy at k= 6 : 0.8741666666666666\n",
      "Test accuracy at k= 7 : 0.8841666666666667\n",
      "Test accuracy at k= 8 : 0.87375\n",
      "Test accuracy at k= 9 : 0.8854166666666666\n",
      "Test accuracy at k= 10 : 0.88375\n"
     ]
    }
   ],
   "source": [
    "# K Nearest Neighbors\n",
    "Ks = 11\n",
    "mean_acc = np.zeros((Ks-1))\n",
    "std_acc = np.zeros((Ks-1))\n",
    "accuracy_scoreKNN1 = [];\n",
    "for n in range(1,Ks):\n",
    "    #Train Model and predict\n",
    "    neigh1 = KNeighborsClassifier(n_neighbors = n).fit(X_train1, Y_train1)\n",
    "    yhatKNN1 = neigh1.predict(X_test1)\n",
    "    print(\"Test accuracy at k=\", n, ':', metrics.accuracy_score(Y_test1, yhatKNN1))\n",
    "    accuracy_scoreKNN1.append(metrics.accuracy_score(Y_test1, yhatKNN1))"
   ]
  },
  {
   "cell_type": "code",
   "execution_count": 12,
   "metadata": {},
   "outputs": [
    {
     "data": {
      "text/plain": [
       "Text(0, 0.5, 'Value of the accuracy score')"
      ]
     },
     "execution_count": 12,
     "metadata": {},
     "output_type": "execute_result"
    },
    {
     "data": {
      "image/png": "[encoded data removed]",
      "text/plain": [
       "<Figure size 432x288 with 1 Axes>"
      ]
     },
     "metadata": {
      "needs_background": "light"
     },
     "output_type": "display_data"
    }
   ],
   "source": [
    "# K Nearest Neighbors evaluation\n",
    "plt.plot(range(1, Ks), accuracy_scoreKNN1)\n",
    "plt.xlabel('Value of K for K Nearest Neighbors')\n",
    "plt.ylabel('Value of the accuracy score')"
   ]
  },
  {
   "cell_type": "code",
   "execution_count": 13,
   "metadata": {},
   "outputs": [
    {
     "data": {
      "text/plain": [
       "KNeighborsClassifier(algorithm='auto', leaf_size=30, metric='minkowski',\n",
       "                     metric_params=None, n_jobs=None, n_neighbors=9, p=2,\n",
       "                     weights='uniform')"
      ]
     },
     "execution_count": 13,
     "metadata": {},
     "output_type": "execute_result"
    }
   ],
   "source": [
    "# since k = 9 gives the largest accuracy value, it will be used in the model\n",
    "KNN1 = KNeighborsClassifier(n_neighbors=9).fit(X1,Y1)\n",
    "KNN1"
   ]
  },
  {
   "cell_type": "code",
   "execution_count": 14,
   "metadata": {},
   "outputs": [
    {
     "name": "stdout",
     "output_type": "stream",
     "text": [
      "For a maximum depth value of  3 The accuracy score is:  0.8875\n",
      "For a maximum depth value of  4 The accuracy score is:  0.8870833333333333\n",
      "For a maximum depth value of  5 The accuracy score is:  0.8870833333333333\n",
      "For a maximum depth value of  6 The accuracy score is:  0.8870833333333333\n",
      "For a maximum depth value of  7 The accuracy score is:  0.88375\n",
      "For a maximum depth value of  8 The accuracy score is:  0.8858333333333334\n",
      "For a maximum depth value of  9 The accuracy score is:  0.8875\n",
      "For a maximum depth value of  10 The accuracy score is:  0.8858333333333334\n"
     ]
    }
   ],
   "source": [
    "# Decision Tree\n",
    "#compare accuracy results for different maximum depths\n",
    "d_range = range(3, 11)\n",
    "accuracy_scoreDec1 = [];\n",
    "for d in d_range:\n",
    "    DecTree1 = DecisionTreeClassifier(criterion='entropy', max_depth=d)\n",
    "    DecTree1.fit(X_train1, Y_train1)\n",
    "    yhatDec1 = DecTree1.predict(X_test1)\n",
    "    print(\"For a maximum depth value of \", d, \"The accuracy score is: \", metrics.accuracy_score(Y_test1, yhatDec1))\n",
    "    accuracy_scoreDec1.append(metrics.accuracy_score(Y_test1, yhatDec1))"
   ]
  },
  {
   "cell_type": "code",
   "execution_count": 15,
   "metadata": {},
   "outputs": [
    {
     "data": {
      "text/plain": [
       "Text(0, 0.5, 'Accuracy score')"
      ]
     },
     "execution_count": 15,
     "metadata": {},
     "output_type": "execute_result"
    },
    {
     "data": {
      "image/png": "[encoded data removed]",
      "text/plain": [
       "<Figure size 432x288 with 1 Axes>"
      ]
     },
     "metadata": {
      "needs_background": "light"
     },
     "output_type": "display_data"
    }
   ],
   "source": [
    "plt.bar(range(3,11), accuracy_scoreDec1)\n",
    "plt.xlabel('Maximum depth of Decision Tree')\n",
    "plt.ylabel('Accuracy score')"
   ]
  },
  {
   "cell_type": "code",
   "execution_count": 16,
   "metadata": {},
   "outputs": [
    {
     "data": {
      "text/plain": [
       "DecisionTreeClassifier(ccp_alpha=0.0, class_weight=None, criterion='entropy',\n",
       "                       max_depth=9, max_features=None, max_leaf_nodes=None,\n",
       "                       min_impurity_decrease=0.0, min_impurity_split=None,\n",
       "                       min_samples_leaf=1, min_samples_split=2,\n",
       "                       min_weight_fraction_leaf=0.0, presort='deprecated',\n",
       "                       random_state=None, splitter='best')"
      ]
     },
     "execution_count": 16,
     "metadata": {},
     "output_type": "execute_result"
    }
   ],
   "source": [
    "#Set up the algorithm for max depth = 9\n",
    "from sklearn.tree import DecisionTreeClassifier\n",
    "DecTree1 = DecisionTreeClassifier(criterion='entropy', max_depth=9)\n",
    "DecTree1.fit(X1, Y1)\n",
    "DecTree1"
   ]
  },
  {
   "cell_type": "code",
   "execution_count": 17,
   "metadata": {},
   "outputs": [
    {
     "name": "stdout",
     "output_type": "stream",
     "text": [
      "for the linear kernel the accuracy score is:  0.8870833333333333\n",
      "for the poly kernel the accuracy score is:  0.8870833333333333\n",
      "for the rbf kernel the accuracy score is:  0.8870833333333333\n",
      "for the sigmoid kernel the accuracy score is:  0.8125\n"
     ]
    }
   ],
   "source": [
    "# Support Vector Machine\n",
    "from sklearn import svm\n",
    "kernel_list = ['linear', 'poly', 'rbf', 'sigmoid']\n",
    "accuracy_scoreSVM1 = [];\n",
    "\n",
    "for kernel in kernel_list:\n",
    "    testSVM1 = svm.SVC(kernel=kernel)\n",
    "    testSVM1.fit(X_train1, Y_train1)\n",
    "    yhatSVM1 = testSVM1.predict(X_test1)\n",
    "    print(\"for the\", kernel, \"kernel the accuracy score is: \", metrics.accuracy_score(Y_test1, yhatSVM1))\n",
    "    accuracy_scoreSVM1.append(metrics.accuracy_score(Y_test1, yhatSVM1))"
   ]
  },
  {
   "cell_type": "code",
   "execution_count": 18,
   "metadata": {},
   "outputs": [
    {
     "data": {
      "text/plain": [
       "Text(0, 0.5, 'accuracy score')"
      ]
     },
     "execution_count": 18,
     "metadata": {},
     "output_type": "execute_result"
    },
    {
     "data": {
      "image/png": "[encoded data removed]",
      "text/plain": [
       "<Figure size 432x288 with 1 Axes>"
      ]
     },
     "metadata": {
      "needs_background": "light"
     },
     "output_type": "display_data"
    }
   ],
   "source": [
    "plt.bar(kernel_list, accuracy_scoreSVM1)\n",
    "plt.xlabel('Type of Kernel')\n",
    "plt.ylabel('accuracy score')"
   ]
  },
  {
   "cell_type": "code",
   "execution_count": 19,
   "metadata": {},
   "outputs": [
    {
     "data": {
      "text/plain": [
       "SVC(C=1.0, break_ties=False, cache_size=200, class_weight=None, coef0=0.0,\n",
       "    decision_function_shape='ovr', degree=3, gamma='scale', kernel='linear',\n",
       "    max_iter=-1, probability=False, random_state=None, shrinking=True,\n",
       "    tol=0.001, verbose=False)"
      ]
     },
     "execution_count": 19,
     "metadata": {},
     "output_type": "execute_result"
    }
   ],
   "source": [
    "# linear, poly, and rbf kernels produce the same accuracy, chose rbf to be used in algorithm\n",
    "SVM1 = svm.SVC(kernel='linear')\n",
    "SVM1.fit(X1,Y1)\n",
    "SVM1"
   ]
  },
  {
   "cell_type": "code",
   "execution_count": 20,
   "metadata": {},
   "outputs": [
    {
     "name": "stdout",
     "output_type": "stream",
     "text": [
      "Accuracy with parameters c:  0.1 and solver: newton-cg is:  0.37512139423308355\n"
     ]
    },
    {
     "name": "stderr",
     "output_type": "stream",
     "text": [
      "C:\\ProgramData\\Anaconda3\\lib\\site-packages\\sklearn\\linear_model\\_logistic.py:940: ConvergenceWarning: lbfgs failed to converge (status=1):\n",
      "STOP: TOTAL NO. of ITERATIONS REACHED LIMIT.\n",
      "\n",
      "Increase the number of iterations (max_iter) or scale the data as shown in:\n",
      "    https://scikit-learn.org/stable/modules/preprocessing.html\n",
      "Please also refer to the documentation for alternative solver options:\n",
      "    https://scikit-learn.org/stable/modules/linear_model.html#logistic-regression\n",
      "  extra_warning_msg=_LOGISTIC_SOLVER_CONVERGENCE_MSG)\n"
     ]
    },
    {
     "name": "stdout",
     "output_type": "stream",
     "text": [
      "Accuracy with parameters c:  0.1 and solver: lbfgs is:  0.37507485178546524\n",
      "Accuracy with parameters c:  0.1 and solver: liblinear is:  0.37908947072691934\n"
     ]
    },
    {
     "name": "stderr",
     "output_type": "stream",
     "text": [
      "C:\\ProgramData\\Anaconda3\\lib\\site-packages\\sklearn\\linear_model\\_sag.py:330: ConvergenceWarning: The max_iter was reached which means the coef_ did not converge\n",
      "  \"the coef_ did not converge\", ConvergenceWarning)\n"
     ]
    },
    {
     "name": "stdout",
     "output_type": "stream",
     "text": [
      "Accuracy with parameters c:  0.1 and solver: sag is:  0.3747998760333114\n"
     ]
    },
    {
     "name": "stderr",
     "output_type": "stream",
     "text": [
      "C:\\ProgramData\\Anaconda3\\lib\\site-packages\\sklearn\\linear_model\\_sag.py:330: ConvergenceWarning: The max_iter was reached which means the coef_ did not converge\n",
      "  \"the coef_ did not converge\", ConvergenceWarning)\n"
     ]
    },
    {
     "name": "stdout",
     "output_type": "stream",
     "text": [
      "Accuracy with parameters c:  0.1 and solver: saga is:  0.37479804317027665\n",
      "Accuracy with parameters c:  0.01 and solver: newton-cg is:  0.3747202078780941\n"
     ]
    },
    {
     "name": "stderr",
     "output_type": "stream",
     "text": [
      "C:\\ProgramData\\Anaconda3\\lib\\site-packages\\sklearn\\linear_model\\_logistic.py:940: ConvergenceWarning: lbfgs failed to converge (status=1):\n",
      "STOP: TOTAL NO. of ITERATIONS REACHED LIMIT.\n",
      "\n",
      "Increase the number of iterations (max_iter) or scale the data as shown in:\n",
      "    https://scikit-learn.org/stable/modules/preprocessing.html\n",
      "Please also refer to the documentation for alternative solver options:\n",
      "    https://scikit-learn.org/stable/modules/linear_model.html#logistic-regression\n",
      "  extra_warning_msg=_LOGISTIC_SOLVER_CONVERGENCE_MSG)\n"
     ]
    },
    {
     "name": "stdout",
     "output_type": "stream",
     "text": [
      "Accuracy with parameters c:  0.01 and solver: lbfgs is:  0.3747272189008164\n",
      "Accuracy with parameters c:  0.01 and solver: liblinear is:  0.3858644052690114\n"
     ]
    },
    {
     "name": "stderr",
     "output_type": "stream",
     "text": [
      "C:\\ProgramData\\Anaconda3\\lib\\site-packages\\sklearn\\linear_model\\_sag.py:330: ConvergenceWarning: The max_iter was reached which means the coef_ did not converge\n",
      "  \"the coef_ did not converge\", ConvergenceWarning)\n"
     ]
    },
    {
     "name": "stdout",
     "output_type": "stream",
     "text": [
      "Accuracy with parameters c:  0.01 and solver: sag is:  0.37472101432928206\n"
     ]
    },
    {
     "name": "stderr",
     "output_type": "stream",
     "text": [
      "C:\\ProgramData\\Anaconda3\\lib\\site-packages\\sklearn\\linear_model\\_sag.py:330: ConvergenceWarning: The max_iter was reached which means the coef_ did not converge\n",
      "  \"the coef_ did not converge\", ConvergenceWarning)\n"
     ]
    },
    {
     "name": "stdout",
     "output_type": "stream",
     "text": [
      "Accuracy with parameters c:  0.01 and solver: saga is:  0.3747882281766806\n",
      "Accuracy with parameters c:  0.001 and solver: newton-cg is:  0.3746067794482081\n",
      "Accuracy with parameters c:  0.001 and solver: lbfgs is:  0.3746071097326741\n",
      "Accuracy with parameters c:  0.001 and solver: liblinear is:  0.3964225251569337\n",
      "Accuracy with parameters c:  0.001 and solver: sag is:  0.37460678022025123\n",
      "Accuracy with parameters c:  0.001 and solver: saga is:  0.3746066577137551\n",
      "Accuracy with parameters c:  0.0001 and solver: newton-cg is:  0.37429049461410613\n",
      "Accuracy with parameters c:  0.0001 and solver: lbfgs is:  0.37429050967541505\n",
      "Accuracy with parameters c:  0.0001 and solver: liblinear is:  0.4416580474226054\n",
      "Accuracy with parameters c:  0.0001 and solver: sag is:  0.3742904216566972\n",
      "Accuracy with parameters c:  0.0001 and solver: saga is:  0.37429006665064607\n"
     ]
    }
   ],
   "source": [
    "# Logistic Regression\n",
    "from sklearn.metrics import log_loss\n",
    "\n",
    "#list out variables for c and solver\n",
    "c_list = [0.1, 0.01, 0.001, 0.0001]\n",
    "solver_list = ['newton-cg', 'lbfgs', 'liblinear', 'sag', 'saga']\n",
    "accuracy_scoreLR1 = []\n",
    "\n",
    "for c in c_list:\n",
    "    for solver in solver_list:\n",
    "        testLR1 = LogisticRegression(C=c, solver=solver).fit(X_train1, Y_train1)\n",
    "        yhatLR1 = testLR1.predict(X_test1)\n",
    "        probLR1 = testLR1.predict_proba(X_test1)\n",
    "        print(\"Accuracy with parameters c: \",c, \"and solver:\", solver, \"is: \", log_loss(Y_test1, probLR1))\n",
    "        accuracy_scoreLR1.append(log_loss(Y_test1, probLR1))"
   ]
  },
  {
   "cell_type": "code",
   "execution_count": 21,
   "metadata": {},
   "outputs": [
    {
     "data": {
      "text/plain": [
       "LogisticRegression(C=0.0001, class_weight=None, dual=False, fit_intercept=True,\n",
       "                   intercept_scaling=1, l1_ratio=None, max_iter=100,\n",
       "                   multi_class='auto', n_jobs=None, penalty='l2',\n",
       "                   random_state=None, solver='liblinear', tol=0.0001, verbose=0,\n",
       "                   warm_start=False)"
      ]
     },
     "execution_count": 21,
     "metadata": {},
     "output_type": "execute_result"
    }
   ],
   "source": [
    "#values with the highest accuracy are c=0.0001, solver=liblinear\n",
    "LR1 = LogisticRegression(C=0.0001, solver='liblinear').fit(X1, Y1)\n",
    "LR1"
   ]
  },
  {
   "cell_type": "code",
   "execution_count": 22,
   "metadata": {},
   "outputs": [],
   "source": [
    "#Train test split for df2\n",
    "X_train2, X_test2,Y_train2,Y_test2 = train_test_split(X2, Y2, test_size=0.2, random_state=99)\n"
   ]
  },
  {
   "cell_type": "code",
   "execution_count": 23,
   "metadata": {},
   "outputs": [
    {
     "name": "stdout",
     "output_type": "stream",
     "text": [
      "Test accuracy at k= 1 : 0.78625\n",
      "Test accuracy at k= 2 : 0.755\n",
      "Test accuracy at k= 3 : 0.8820833333333333\n",
      "Test accuracy at k= 4 : 0.8704166666666666\n",
      "Test accuracy at k= 5 : 0.88375\n",
      "Test accuracy at k= 6 : 0.88125\n",
      "Test accuracy at k= 7 : 0.8916666666666667\n",
      "Test accuracy at k= 8 : 0.8908333333333334\n",
      "Test accuracy at k= 9 : 0.8925\n",
      "Test accuracy at k= 10 : 0.8929166666666667\n"
     ]
    }
   ],
   "source": [
    "# K Nearest Neighbors for df2\n",
    "Ks = 11\n",
    "mean_acc = np.zeros((Ks-1))\n",
    "std_acc = np.zeros((Ks-1))\n",
    "accuracy_scoreKNN2 = [];\n",
    "for n in range(1,Ks):\n",
    "    #Train Model and predict\n",
    "    neigh2 = KNeighborsClassifier(n_neighbors = n).fit(X_train2, Y_train2)\n",
    "    yhatKNN2 = neigh2.predict(X_test2)\n",
    "    print(\"Test accuracy at k=\", n, ':', metrics.accuracy_score(Y_test2, yhatKNN2))\n",
    "    accuracy_scoreKNN2.append(metrics.accuracy_score(Y_test2, yhatKNN2))"
   ]
  },
  {
   "cell_type": "code",
   "execution_count": 24,
   "metadata": {},
   "outputs": [
    {
     "data": {
      "text/plain": [
       "Text(0, 0.5, 'Value of the accuracy score')"
      ]
     },
     "execution_count": 24,
     "metadata": {},
     "output_type": "execute_result"
    },
    {
     "data": {
      "image/png": "[encoded data removed]",
      "text/plain": [
       "<Figure size 432x288 with 1 Axes>"
      ]
     },
     "metadata": {
      "needs_background": "light"
     },
     "output_type": "display_data"
    }
   ],
   "source": [
    "plt.bar(range(1, Ks), accuracy_scoreKNN2)\n",
    "plt.xlabel('Value of K for K Nearest Neighbors')\n",
    "plt.ylabel('Value of the accuracy score')"
   ]
  },
  {
   "cell_type": "code",
   "execution_count": 25,
   "metadata": {},
   "outputs": [
    {
     "data": {
      "text/plain": [
       "KNeighborsClassifier(algorithm='auto', leaf_size=30, metric='minkowski',\n",
       "                     metric_params=None, n_jobs=None, n_neighbors=10, p=2,\n",
       "                     weights='uniform')"
      ]
     },
     "execution_count": 25,
     "metadata": {},
     "output_type": "execute_result"
    }
   ],
   "source": [
    "KNN2 = KNeighborsClassifier(n_neighbors=10).fit(X2, Y2)\n",
    "KNN2"
   ]
  },
  {
   "cell_type": "code",
   "execution_count": 26,
   "metadata": {},
   "outputs": [
    {
     "name": "stdout",
     "output_type": "stream",
     "text": [
      "For a maximum depth value of  3 The accuracy score is:  0.8945833333333333\n",
      "For a maximum depth value of  4 The accuracy score is:  0.8941666666666667\n",
      "For a maximum depth value of  5 The accuracy score is:  0.895\n",
      "For a maximum depth value of  6 The accuracy score is:  0.8916666666666667\n",
      "For a maximum depth value of  7 The accuracy score is:  0.8908333333333334\n",
      "For a maximum depth value of  8 The accuracy score is:  0.8933333333333333\n",
      "For a maximum depth value of  9 The accuracy score is:  0.8979166666666667\n",
      "For a maximum depth value of  10 The accuracy score is:  0.89625\n"
     ]
    }
   ],
   "source": [
    "# Decision Tree\n",
    "#compare accuracy results for different maximum depths\n",
    "d_range = range(3, 11)\n",
    "accuracy_scoreDec2 = [];\n",
    "for d in d_range:\n",
    "    DecTree2 = DecisionTreeClassifier(criterion='entropy', max_depth=d)\n",
    "    DecTree2.fit(X_train2, Y_train2)\n",
    "    yhatDec2 = DecTree2.predict(X_test2)\n",
    "    print(\"For a maximum depth value of \", d, \"The accuracy score is: \", metrics.accuracy_score(Y_test2, yhatDec2))\n",
    "    accuracy_scoreDec2.append(metrics.accuracy_score(Y_test2, yhatDec2))"
   ]
  },
  {
   "cell_type": "code",
   "execution_count": 27,
   "metadata": {},
   "outputs": [
    {
     "data": {
      "text/plain": [
       "Text(0, 0.5, 'Accuracy score')"
      ]
     },
     "execution_count": 27,
     "metadata": {},
     "output_type": "execute_result"
    },
    {
     "data": {
      "image/png": "[encoded data removed]",
      "text/plain": [
       "<Figure size 432x288 with 1 Axes>"
      ]
     },
     "metadata": {
      "needs_background": "light"
     },
     "output_type": "display_data"
    }
   ],
   "source": [
    "plt.bar(range(3,11), accuracy_scoreDec2)\n",
    "plt.xlabel('Maximum depth of Decision Tree')\n",
    "plt.ylabel('Accuracy score')"
   ]
  },
  {
   "cell_type": "code",
   "execution_count": 28,
   "metadata": {},
   "outputs": [
    {
     "data": {
      "text/plain": [
       "DecisionTreeClassifier(ccp_alpha=0.0, class_weight=None, criterion='entropy',\n",
       "                       max_depth=9, max_features=None, max_leaf_nodes=None,\n",
       "                       min_impurity_decrease=0.0, min_impurity_split=None,\n",
       "                       min_samples_leaf=1, min_samples_split=2,\n",
       "                       min_weight_fraction_leaf=0.0, presort='deprecated',\n",
       "                       random_state=None, splitter='best')"
      ]
     },
     "execution_count": 28,
     "metadata": {},
     "output_type": "execute_result"
    }
   ],
   "source": [
    "# max depth of 9 gives the best accuracy\n",
    "from sklearn.tree import DecisionTreeClassifier\n",
    "DecTree2 = DecisionTreeClassifier(criterion='entropy', max_depth=9)\n",
    "DecTree2.fit(X2, Y2)\n",
    "DecTree2"
   ]
  },
  {
   "cell_type": "code",
   "execution_count": 29,
   "metadata": {},
   "outputs": [
    {
     "name": "stdout",
     "output_type": "stream",
     "text": [
      "for the linear kernel the accuracy score is:  0.8945833333333333\n",
      "for the poly kernel the accuracy score is:  0.8941666666666667\n",
      "for the rbf kernel the accuracy score is:  0.8945833333333333\n",
      "for the sigmoid kernel the accuracy score is:  0.84125\n"
     ]
    }
   ],
   "source": [
    "# Support Vector Machine\n",
    "kernel_list = ['linear', 'poly', 'rbf', 'sigmoid']\n",
    "accuracy_scoreSVM2 = [];\n",
    "\n",
    "for kernel in kernel_list:\n",
    "    testSVM2 = svm.SVC(kernel=kernel)\n",
    "    testSVM2.fit(X_train2, Y_train2)\n",
    "    yhatSVM2 = testSVM2.predict(X_test2)\n",
    "    print(\"for the\", kernel, \"kernel the accuracy score is: \", metrics.accuracy_score(Y_test2, yhatSVM2))\n",
    "    accuracy_scoreSVM2.append(metrics.accuracy_score(Y_test2, yhatSVM2))"
   ]
  },
  {
   "cell_type": "code",
   "execution_count": 30,
   "metadata": {},
   "outputs": [
    {
     "data": {
      "text/plain": [
       "Text(0, 0.5, 'accuracy score')"
      ]
     },
     "execution_count": 30,
     "metadata": {},
     "output_type": "execute_result"
    },
    {
     "data": {
      "image/png": "[encoded data removed]",
      "text/plain": [
       "<Figure size 432x288 with 1 Axes>"
      ]
     },
     "metadata": {
      "needs_background": "light"
     },
     "output_type": "display_data"
    }
   ],
   "source": [
    "plt.bar(kernel_list, accuracy_scoreSVM2)\n",
    "plt.xlabel('Type of Kernel')\n",
    "plt.ylabel('accuracy score')"
   ]
  },
  {
   "cell_type": "code",
   "execution_count": 31,
   "metadata": {},
   "outputs": [
    {
     "data": {
      "text/plain": [
       "SVC(C=1.0, break_ties=False, cache_size=200, class_weight=None, coef0=0.0,\n",
       "    decision_function_shape='ovr', degree=3, gamma='scale', kernel='linear',\n",
       "    max_iter=-1, probability=False, random_state=None, shrinking=True,\n",
       "    tol=0.001, verbose=False)"
      ]
     },
     "execution_count": 31,
     "metadata": {},
     "output_type": "execute_result"
    }
   ],
   "source": [
    "# rbf has the highest accuracy score\n",
    "SVM2 = svm.SVC(kernel='linear')\n",
    "SVM2.fit(X2, Y2)\n",
    "SVM2"
   ]
  },
  {
   "cell_type": "code",
   "execution_count": 32,
   "metadata": {},
   "outputs": [
    {
     "name": "stdout",
     "output_type": "stream",
     "text": [
      "Accuracy with parameters c:  0.1 and solver: newton-cg is:  0.34778972827314275\n"
     ]
    },
    {
     "name": "stderr",
     "output_type": "stream",
     "text": [
      "C:\\ProgramData\\Anaconda3\\lib\\site-packages\\sklearn\\linear_model\\_logistic.py:940: ConvergenceWarning: lbfgs failed to converge (status=1):\n",
      "STOP: TOTAL NO. of ITERATIONS REACHED LIMIT.\n",
      "\n",
      "Increase the number of iterations (max_iter) or scale the data as shown in:\n",
      "    https://scikit-learn.org/stable/modules/preprocessing.html\n",
      "Please also refer to the documentation for alternative solver options:\n",
      "    https://scikit-learn.org/stable/modules/linear_model.html#logistic-regression\n",
      "  extra_warning_msg=_LOGISTIC_SOLVER_CONVERGENCE_MSG)\n"
     ]
    },
    {
     "name": "stdout",
     "output_type": "stream",
     "text": [
      "Accuracy with parameters c:  0.1 and solver: lbfgs is:  0.34753823285580965\n",
      "Accuracy with parameters c:  0.1 and solver: liblinear is:  0.34495460875652045\n"
     ]
    },
    {
     "name": "stderr",
     "output_type": "stream",
     "text": [
      "C:\\ProgramData\\Anaconda3\\lib\\site-packages\\sklearn\\linear_model\\_sag.py:330: ConvergenceWarning: The max_iter was reached which means the coef_ did not converge\n",
      "  \"the coef_ did not converge\", ConvergenceWarning)\n"
     ]
    },
    {
     "name": "stdout",
     "output_type": "stream",
     "text": [
      "Accuracy with parameters c:  0.1 and solver: sag is:  0.34757604781010304\n"
     ]
    },
    {
     "name": "stderr",
     "output_type": "stream",
     "text": [
      "C:\\ProgramData\\Anaconda3\\lib\\site-packages\\sklearn\\linear_model\\_sag.py:330: ConvergenceWarning: The max_iter was reached which means the coef_ did not converge\n",
      "  \"the coef_ did not converge\", ConvergenceWarning)\n"
     ]
    },
    {
     "name": "stdout",
     "output_type": "stream",
     "text": [
      "Accuracy with parameters c:  0.1 and solver: saga is:  0.3475132470415717\n",
      "Accuracy with parameters c:  0.01 and solver: newton-cg is:  0.34701838229397824\n"
     ]
    },
    {
     "name": "stderr",
     "output_type": "stream",
     "text": [
      "C:\\ProgramData\\Anaconda3\\lib\\site-packages\\sklearn\\linear_model\\_logistic.py:940: ConvergenceWarning: lbfgs failed to converge (status=1):\n",
      "STOP: TOTAL NO. of ITERATIONS REACHED LIMIT.\n",
      "\n",
      "Increase the number of iterations (max_iter) or scale the data as shown in:\n",
      "    https://scikit-learn.org/stable/modules/preprocessing.html\n",
      "Please also refer to the documentation for alternative solver options:\n",
      "    https://scikit-learn.org/stable/modules/linear_model.html#logistic-regression\n",
      "  extra_warning_msg=_LOGISTIC_SOLVER_CONVERGENCE_MSG)\n"
     ]
    },
    {
     "name": "stdout",
     "output_type": "stream",
     "text": [
      "Accuracy with parameters c:  0.01 and solver: lbfgs is:  0.34704894279493836\n",
      "Accuracy with parameters c:  0.01 and solver: liblinear is:  0.346097072917091\n"
     ]
    },
    {
     "name": "stderr",
     "output_type": "stream",
     "text": [
      "C:\\ProgramData\\Anaconda3\\lib\\site-packages\\sklearn\\linear_model\\_sag.py:330: ConvergenceWarning: The max_iter was reached which means the coef_ did not converge\n",
      "  \"the coef_ did not converge\", ConvergenceWarning)\n"
     ]
    },
    {
     "name": "stdout",
     "output_type": "stream",
     "text": [
      "Accuracy with parameters c:  0.01 and solver: sag is:  0.3470364483373921\n"
     ]
    },
    {
     "name": "stderr",
     "output_type": "stream",
     "text": [
      "C:\\ProgramData\\Anaconda3\\lib\\site-packages\\sklearn\\linear_model\\_sag.py:330: ConvergenceWarning: The max_iter was reached which means the coef_ did not converge\n",
      "  \"the coef_ did not converge\", ConvergenceWarning)\n"
     ]
    },
    {
     "name": "stdout",
     "output_type": "stream",
     "text": [
      "Accuracy with parameters c:  0.01 and solver: saga is:  0.34717529389372875\n",
      "Accuracy with parameters c:  0.001 and solver: newton-cg is:  0.3459632771169045\n",
      "Accuracy with parameters c:  0.001 and solver: lbfgs is:  0.3459631427199607\n",
      "Accuracy with parameters c:  0.001 and solver: liblinear is:  0.35297559123379424\n",
      "Accuracy with parameters c:  0.001 and solver: sag is:  0.3459637713695983\n"
     ]
    },
    {
     "name": "stderr",
     "output_type": "stream",
     "text": [
      "C:\\ProgramData\\Anaconda3\\lib\\site-packages\\sklearn\\linear_model\\_sag.py:330: ConvergenceWarning: The max_iter was reached which means the coef_ did not converge\n",
      "  \"the coef_ did not converge\", ConvergenceWarning)\n"
     ]
    },
    {
     "name": "stdout",
     "output_type": "stream",
     "text": [
      "Accuracy with parameters c:  0.001 and solver: saga is:  0.345998893671344\n",
      "Accuracy with parameters c:  0.0001 and solver: newton-cg is:  0.34424730405141757\n",
      "Accuracy with parameters c:  0.0001 and solver: lbfgs is:  0.344247296601905\n",
      "Accuracy with parameters c:  0.0001 and solver: liblinear is:  0.38817041734763147\n",
      "Accuracy with parameters c:  0.0001 and solver: sag is:  0.3442474607890217\n",
      "Accuracy with parameters c:  0.0001 and solver: saga is:  0.34424949222456497\n"
     ]
    }
   ],
   "source": [
    "from sklearn.linear_model import LogisticRegression\n",
    "from sklearn.metrics import log_loss\n",
    "\n",
    "#list out variables for c and solver\n",
    "c_list = [0.1, 0.01, 0.001, 0.0001]\n",
    "solver_list = ['newton-cg', 'lbfgs', 'liblinear', 'sag', 'saga']\n",
    "accuracy_scoreLR2 = []\n",
    "\n",
    "for c in c_list:\n",
    "    for solver in solver_list:\n",
    "        testLR2 = LogisticRegression(C=c, solver=solver).fit(X_train2, Y_train2)\n",
    "        yhatLR2 = testLR2.predict(X_test2)\n",
    "        probLR2 = testLR2.predict_proba(X_test2)\n",
    "        print(\"Accuracy with parameters c: \",c, \"and solver:\", solver, \"is: \", log_loss(Y_test2, probLR2))\n",
    "        accuracy_scoreLR2.append(log_loss(Y_test2, probLR2))"
   ]
  },
  {
   "cell_type": "code",
   "execution_count": 33,
   "metadata": {},
   "outputs": [
    {
     "data": {
      "text/plain": [
       "LogisticRegression(C=0.0001, class_weight=None, dual=False, fit_intercept=True,\n",
       "                   intercept_scaling=1, l1_ratio=None, max_iter=100,\n",
       "                   multi_class='auto', n_jobs=None, penalty='l2',\n",
       "                   random_state=None, solver='liblinear', tol=0.0001, verbose=0,\n",
       "                   warm_start=False)"
      ]
     },
     "execution_count": 33,
     "metadata": {},
     "output_type": "execute_result"
    }
   ],
   "source": [
    "# lib linear and c=0.0001 accuracy is the highest\n",
    "LR2 = LogisticRegression(C=0.0001, solver='liblinear').fit(X2, Y2)\n",
    "LR2"
   ]
  },
  {
   "cell_type": "markdown",
   "metadata": {},
   "source": [
    "### Optimum settings have been determined with X1 and X2. Now to use Xa and Xb to determine the accuracy of the models"
   ]
  },
  {
   "cell_type": "code",
   "execution_count": 34,
   "metadata": {},
   "outputs": [
    {
     "name": "stdout",
     "output_type": "stream",
     "text": [
      "[3 3 3 ... 3 3 3]\n",
      "[3 3 3 ... 3 3 3]\n"
     ]
    }
   ],
   "source": [
    "# splitting data into X and Y values\n",
    "Xa = df_a.loc[:, df_a.columns != 'accident_severity']\n",
    "Ya = df_a.accident_severity.values\n",
    "\n",
    "Xb = df_b.loc[:, df_b.columns != 'accident_severity']\n",
    "Yb = df_b.accident_severity.values\n",
    "\n",
    "print(Ya)\n",
    "print(Yb)"
   ]
  },
  {
   "cell_type": "code",
   "execution_count": 35,
   "metadata": {},
   "outputs": [
    {
     "name": "stdout",
     "output_type": "stream",
     "text": [
      "92.96\n",
      "92.84\n",
      "93.74\n",
      "93.74\n"
     ]
    }
   ],
   "source": [
    "# inserting data into ML models, then obtain the accuracy score\n",
    "# Without Junction (df_a)\n",
    "\n",
    "# K Nearest Neighbors\n",
    "Y_predKNN_fin1 = KNN1.predict(Xa)\n",
    "acc_KNN_fin1 = round(KNN1.score(Xa, Ya)*100, 2)\n",
    "print(acc_KNN_fin1)\n",
    "\n",
    "# Decision Tree\n",
    "Y_predDEC_fin1 = DecTree1.predict(Xa)\n",
    "acc_DEC_fin1 = round(DecTree1.score(Xa, Ya)*100, 2)\n",
    "print(acc_DEC_fin1)\n",
    "\n",
    "# Support Vector Machine\n",
    "Y_pred_SVM_fin1 = SVM1.predict(Xa)\n",
    "acc_SVM_fin1 = round(SVM1.score(Xa, Ya)*100, 2)\n",
    "print(acc_SVM_fin1)\n",
    "\n",
    "# Logistic Regression\n",
    "Y_pred_LR_fin1 = LR1.predict(Xa)\n",
    "acc_LR_fin1 = round(LR1.score(Xa, Ya)*100, 2)\n",
    "print(acc_LR_fin1)"
   ]
  },
  {
   "cell_type": "code",
   "execution_count": 36,
   "metadata": {},
   "outputs": [
    {
     "name": "stdout",
     "output_type": "stream",
     "text": [
      "91.48\n",
      "92.48\n",
      "93.48\n",
      "93.48\n"
     ]
    }
   ],
   "source": [
    "# inserting data into ML models, then obtain the accuracy score\n",
    "# With Junction (df_b)\n",
    "\n",
    "# K Nearest Neighbors\n",
    "Y_predKNN_fin2 = KNN2.predict(Xb)\n",
    "acc_KNN_fin2 = round(KNN2.score(Xb, Yb)*100, 2)\n",
    "print(acc_KNN_fin2)\n",
    "\n",
    "# Decision Tree\n",
    "Y_predDEC_fin2 = DecTree2.predict(Xb)\n",
    "acc_DEC_fin2 = round(DecTree2.score(Xb, Yb)*100, 2)\n",
    "print(acc_DEC_fin2)\n",
    "\n",
    "# Support Vector Machine\n",
    "Y_pred_SVM_fin2 = SVM2.predict(Xb)\n",
    "acc_SVM_fin2 = round(SVM2.score(Xb, Yb)*100, 2)\n",
    "print(acc_SVM_fin2)\n",
    "\n",
    "# Logistic Regression\n",
    "Y_pred_LR_fin2 = LR2.predict(Xb)\n",
    "acc_LR_fin2 = round(LR2.score(Xb, Yb)*100, 2)\n",
    "print(acc_LR_fin2)"
   ]
  },
  {
   "cell_type": "code",
   "execution_count": 37,
   "metadata": {},
   "outputs": [],
   "source": [
    "model_score = pd.DataFrame({\n",
    "    'Machine Learning Model': ['K Nearest Neighbors', 'Decision Tree', 'Support Vector Machine', 'Logistic Regression'],\n",
    "    'Accuracy Without Junction': [acc_KNN_fin1, acc_DEC_fin1, acc_SVM_fin1, acc_LR_fin1],\n",
    "    'Accuracy With Junction': [acc_KNN_fin2, acc_DEC_fin2, acc_SVM_fin2, acc_LR_fin2],\n",
    "})"
   ]
  },
  {
   "cell_type": "code",
   "execution_count": 38,
   "metadata": {},
   "outputs": [
    {
     "data": {
      "text/html": [
       "<div>\n",
       "<style scoped>\n",
       "    .dataframe tbody tr th:only-of-type {\n",
       "        vertical-align: middle;\n",
       "    }\n",
       "\n",
       "    .dataframe tbody tr th {\n",
       "        vertical-align: top;\n",
       "    }\n",
       "\n",
       "    .dataframe thead th {\n",
       "        text-align: right;\n",
       "    }\n",
       "</style>\n",
       "<table border=\"1\" class=\"dataframe\">\n",
       "  <thead>\n",
       "    <tr style=\"text-align: right;\">\n",
       "      <th></th>\n",
       "      <th>Machine Learning Model</th>\n",
       "      <th>Accuracy Without Junction</th>\n",
       "      <th>Accuracy With Junction</th>\n",
       "    </tr>\n",
       "  </thead>\n",
       "  <tbody>\n",
       "    <tr>\n",
       "      <th>0</th>\n",
       "      <td>K Nearest Neighbors</td>\n",
       "      <td>92.96</td>\n",
       "      <td>91.48</td>\n",
       "    </tr>\n",
       "    <tr>\n",
       "      <th>1</th>\n",
       "      <td>Decision Tree</td>\n",
       "      <td>92.84</td>\n",
       "      <td>92.48</td>\n",
       "    </tr>\n",
       "    <tr>\n",
       "      <th>2</th>\n",
       "      <td>Support Vector Machine</td>\n",
       "      <td>93.74</td>\n",
       "      <td>93.48</td>\n",
       "    </tr>\n",
       "    <tr>\n",
       "      <th>3</th>\n",
       "      <td>Logistic Regression</td>\n",
       "      <td>93.74</td>\n",
       "      <td>93.48</td>\n",
       "    </tr>\n",
       "  </tbody>\n",
       "</table>\n",
       "</div>"
      ],
      "text/plain": [
       "   Machine Learning Model  Accuracy Without Junction  Accuracy With Junction\n",
       "0     K Nearest Neighbors                      92.96                   91.48\n",
       "1           Decision Tree                      92.84                   92.48\n",
       "2  Support Vector Machine                      93.74                   93.48\n",
       "3     Logistic Regression                      93.74                   93.48"
      ]
     },
     "execution_count": 38,
     "metadata": {},
     "output_type": "execute_result"
    }
   ],
   "source": [
    "model_score"
   ]
  },
  {
   "cell_type": "code",
   "execution_count": null,
   "metadata": {},
   "outputs": [],
   "source": []
  }
 ],
 "metadata": {
  "kernelspec": {
   "display_name": "Python 3",
   "language": "python",
   "name": "python3"
  },
  "language_info": {
   "codemirror_mode": {
    "name": "ipython",
    "version": 3
   },
   "file_extension": ".py",
   "mimetype": "text/x-python",
   "name": "python",
   "nbconvert_exporter": "python",
   "pygments_lexer": "ipython3",
   "version": "3.7.6"
  }
 },
 "nbformat": 4,
 "nbformat_minor": 4
}

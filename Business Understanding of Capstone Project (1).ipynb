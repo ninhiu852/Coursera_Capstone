{
 "cells": [
  {
   "cell_type": "markdown",
   "metadata": {},
   "source": [
    "The objective of this capstone project is split into 2 parts:\n",
    "1. Determine the probability of a traffic accident occuring given the conditions the car was driving in\n",
    "2. If a traffic accident does occur, determine the severity of the accident given the conditions the car was driving in\n",
    "\n",
    "This project could be helpful to multpile parties. Real-time mapping services could use this model to predict accident hotspots and give suitable recommendations to the drivers. Drivers who follow the recommendation could potentialy avoid a traffic accident, and could potentially avoid possible property and human damage costs. The roadway authorities determine the accident blackspots in the area and make the necessary changes. \n",
    "\n"
   ]
  },
  {
   "cell_type": "code",
   "execution_count": null,
   "metadata": {},
   "outputs": [],
   "source": []
  }
 ],
 "metadata": {
  "kernelspec": {
   "display_name": "Python 3",
   "language": "python",
   "name": "python3"
  },
  "language_info": {
   "codemirror_mode": {
    "name": "ipython",
    "version": 3
   },
   "file_extension": ".py",
   "mimetype": "text/x-python",
   "name": "python",
   "nbconvert_exporter": "python",
   "pygments_lexer": "ipython3",
   "version": "3.7.6"
  }
 },
 "nbformat": 4,
 "nbformat_minor": 4
}
